{
 "cells": [
  {
   "cell_type": "code",
   "execution_count": 17,
   "id": "eb4b42da-cc64-4930-a520-c224115651f3",
   "metadata": {},
   "outputs": [
    {
     "name": "stdout",
     "output_type": "stream",
     "text": [
      "1.0999999999999999\n"
     ]
    }
   ],
   "source": [
    "#A single neuron implementation where inputs are x1,x2,x3 and weights are w1,w2,w3 and bias is b\n",
    "\n",
    "inputt= [1,2,3]\n",
    "weight= [0.2,0.3,-0.9]\n",
    "bias=3\n",
    "\n",
    "neuron=inputt[0]*weight[0] + inputt[1]*weight[1] + inputt[2]*weight[2] +bias\n",
    "print(neuron)"
   ]
  },
  {
   "cell_type": "markdown",
   "id": "3f3989fe-d441-4a7b-ae24-c60de1ef9ba0",
   "metadata": {},
   "source": [
    "# LAYER OF NEURONS"
   ]
  },
  {
   "cell_type": "code",
   "execution_count": 6,
   "id": "3642c5c5-a007-418a-b2b4-29b93aec8de2",
   "metadata": {},
   "outputs": [
    {
     "name": "stdout",
     "output_type": "stream",
     "text": [
      "neuron 1  8.7\n",
      "neuron 2  10.7\n",
      "neuron 3  6.699999999999999\n",
      "neuron 4  7.699999999999999\n"
     ]
    }
   ],
   "source": [
    "inp=[1,2,3,4]\n",
    "\n",
    "wn1=[1.2,1.8,-0.5,0.6]\n",
    "wn2=[0,2.2,1,0.9]\n",
    "wn3=[1.2,0.8,0.5,-0.6]\n",
    "wn4=[0.4,1.99,-0.1,0.7]\n",
    "\n",
    "bn1=3\n",
    "bn2=5\n",
    "bn3=1\n",
    "bn4=2\n",
    "\n",
    "n1= inp[0]*wn1[0] + inp[1]*wn1[1] + inp[2]*wn1[2] + inp[3]*wn1[3] + bn1\n",
    "n2= inp[0]*wn1[0] + inp[1]*wn1[1] + inp[2]*wn1[2] + inp[3]*wn1[3] + bn2\n",
    "n3= inp[0]*wn1[0] + inp[1]*wn1[1] + inp[2]*wn1[2] + inp[3]*wn1[3] + bn3\n",
    "n4= inp[0]*wn1[0] + inp[1]*wn1[1] + inp[2]*wn1[2] + inp[3]*wn1[3] + bn4\n",
    "\n",
    "print(\"neuron 1 \",n1)\n",
    "print(\"neuron 2 \",n2)\n",
    "print(\"neuron 3 \",n3)\n",
    "print(\"neuron 4 \",n4) \n",
    "\n",
    "#we can also take weight array to be 2 dimensional"
   ]
  },
  {
   "cell_type": "code",
   "execution_count": 14,
   "id": "ab8f76bf-350d-40ad-8b56-e9284cd4a292",
   "metadata": {},
   "outputs": [
    {
     "name": "stdout",
     "output_type": "stream",
     "text": [
      "[10.8, 10.21, 3.885, 6.800000000000001]\n"
     ]
    }
   ],
   "source": [
    "#for loop implementation\n",
    "\n",
    "inputs = [1, 2, 3, 2.5]\n",
    "##LIST OF WEIGHTS\n",
    "weights = [[0.2, 0.8, -0.5, 1],\n",
    " [0.5, -0.91, 0.26, -0.5],\n",
    " [-0.26, -0.27, 0.17, 0.87],[1.2,0.8,0.5,-0.6]]\n",
    "##LIST OF BIASES\n",
    "biases = [2, 3, 0.5,1]\n",
    "# Output of current layer\n",
    "layer_outputs = []\n",
    "for i in range(len(biases)):\n",
    "    res=0\n",
    "    for j in range(len(weights[0])):\n",
    "        res+=inputs[j]*weights[i][j]+biases[i]\n",
    "    layer_outputs.append(res)\n",
    "print(layer_outputs)"
   ]
  },
  {
   "cell_type": "markdown",
   "id": "74c3032b-be61-4929-b6b3-fdd87dddcebf",
   "metadata": {},
   "source": [
    "# HOW TO USE NUMPY??"
   ]
  },
  {
   "cell_type": "code",
   "execution_count": 16,
   "id": "b923570d-57b8-48ae-b48e-94ed885b509d",
   "metadata": {},
   "outputs": [
    {
     "name": "stdout",
     "output_type": "stream",
     "text": [
      "1.0999999999999999\n"
     ]
    }
   ],
   "source": [
    "#for single neuron\n",
    "import numpy as np\n",
    "inputt= [1,2,3]\n",
    "weight= [0.2,0.3,-0.9]\n",
    "bias=3\n",
    "\n",
    "res=np.dot(inputt,weight)+bias\n",
    "print(res)"
   ]
  },
  {
   "cell_type": "code",
   "execution_count": 20,
   "id": "5e497a27-d94e-4cab-ac17-9c301fcd5387",
   "metadata": {},
   "outputs": [
    {
     "name": "stdout",
     "output_type": "stream",
     "text": [
      "[4.8, 1.21, 2.385, 3.8]\n"
     ]
    }
   ],
   "source": [
    "#for a layer of neurons\n",
    "inputs = [1, 2, 3, 2.5]\n",
    "##LIST OF WEIGHTS\n",
    "weights = [[0.2, 0.8, -0.5, 1],\n",
    " [0.5, -0.91, 0.26, -0.5],\n",
    " [-0.26, -0.27, 0.17, 0.87],[1.2,0.8,0.5,-0.6]]\n",
    "##LIST OF BIASES\n",
    "biases = [2, 3, 0.5,1]\n",
    "layer_output=[]\n",
    "for w,bias in zip(weights,biases):\n",
    "    layer_output.append(np.dot(w,inputs)+bias)\n",
    "print(layer_output)"
   ]
  },
  {
   "cell_type": "code",
   "execution_count": 21,
   "id": "cbcb5a13-65b8-4a1b-b6c1-9b38c125c20f",
   "metadata": {},
   "outputs": [
    {
     "name": "stdout",
     "output_type": "stream",
     "text": [
      "[[ 4.8    1.21   2.385]\n",
      " [ 8.9   -1.81   0.2  ]\n",
      " [ 1.41   1.051  0.026]]\n"
     ]
    }
   ],
   "source": [
    "#when we need to directly apply dot product then we need to take transpose so that it goes row by row dot product instead of \n",
    "#row by column (basically turning rows to column and vice versa for correct results)\n",
    "import numpy as np\n",
    "\n",
    "inputs = [[1.0, 2.0, 3.0, 2.5], \n",
    "          [2.0, 5.0, -1.0, 2.0], \n",
    "          [-1.5, 2.7, 3.3, -0.8]]\n",
    "weights = [[0.2, 0.8, -0.5, 1],\n",
    "           [0.5, -0.91, 0.26, -0.5],\n",
    "           [-0.26, -0.27, 0.17, 0.87]]\n",
    "biases = [2.0, 3.0, 0.5]\n",
    "\n",
    "# Convert lists to numpy arrays\n",
    "inputs_array = np.array(inputs)\n",
    "weights_array = np.array(weights)\n",
    "biases_array = np.array(biases)\n",
    "\n",
    "# Calculate the dot product and add the biases\n",
    "outputs = np.dot(inputs_array, weights_array.T) + biases_array\n",
    "print(outputs)\n"
   ]
  },
  {
   "cell_type": "code",
   "execution_count": null,
   "id": "59b45112-3a29-40d6-877f-024430b56ef4",
   "metadata": {},
   "outputs": [],
   "source": []
  }
 ],
 "metadata": {
  "kernelspec": {
   "display_name": "Python 3 (ipykernel)",
   "language": "python",
   "name": "python3"
  },
  "language_info": {
   "codemirror_mode": {
    "name": "ipython",
    "version": 3
   },
   "file_extension": ".py",
   "mimetype": "text/x-python",
   "name": "python",
   "nbconvert_exporter": "python",
   "pygments_lexer": "ipython3",
   "version": "3.10.18"
  }
 },
 "nbformat": 4,
 "nbformat_minor": 5
}
